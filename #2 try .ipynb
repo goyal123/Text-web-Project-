{
 "cells": [
  {
   "cell_type": "code",
   "execution_count": 17,
   "metadata": {},
   "outputs": [],
   "source": [
    "import glob\n",
    "import nltk\n",
    "from nltk.corpus import stopwords\n",
    "import string\n",
    "import pandas as pd"
   ]
  },
  {
   "cell_type": "code",
   "execution_count": 18,
   "metadata": {},
   "outputs": [],
   "source": [
    "def func(f):\n",
    "    file = f.read()\n",
    "    file = [ i for i in file if i not in string.punctuation ]\n",
    "    file = ''.join(file)\n",
    "    file = nltk.word_tokenize(file)\n",
    "    file = [ word for word in file if word not in stopwords.words('english')]\n",
    "    return len(set(file)) \n"
   ]
  },
  {
   "cell_type": "code",
   "execution_count": 21,
   "metadata": {},
   "outputs": [
    {
     "name": "stdout",
     "output_type": "stream",
     "text": [
      "Anarchism 6487\n",
      "ArmedForcesofTurkmenistan 1039\n",
      "citations 422\n",
      "DemographicsofTurkmenistan 1077\n",
      "DemographicsofTuvalu 513\n",
      "EconomyofTurkmenistan 1055\n",
      "ForeignrelationsofTurkey 4297\n",
      "ForeignrelationsofTurkmenistan 627\n",
      "GeographyofTurkmenistan 732\n",
      "GeographyofTuvalu 2365\n",
      "HistoryofTurkmenistan 1965\n",
      "Justificationforthestate 533\n",
      "links 12768\n",
      "NightoftheLivingDead 3341\n",
      "PoliticsofTurkmenistan 1218\n",
      "Problemofotherminds 67\n",
      "Regressargument 492\n",
      "Statisticalhypothesistesting 2900\n",
      "TamaraEJernigan 165\n",
      "TARDIS 4176\n",
      "Tax 3683\n",
      "TaxFreedomDay 838\n",
      "TelecommunicationsintheTurksandCaicosIslands 221\n",
      "TelecommunicationsinTurkmenistan 425\n",
      "TelecommunicationsinTuvalu 276\n",
      "TerenceHill 896\n",
      "Tertiary 245\n",
      "TheHague 3082\n",
      "TheHobbit 3501\n",
      "TheHoundoftheBaskervilles 1500\n",
      "Theoryofjustification 518\n",
      "TheResistibleRiseofArturoUi 896\n",
      "TheThreepennyOpera 2066\n",
      "TienGow 618\n",
      "Timesignature 1805\n",
      "TimPowers 840\n",
      "TomandJerrydisambiguation 135\n",
      "TomClancy 1485\n",
      "TommyLee 1468\n",
      "Tonyukuk 450\n",
      "Trackingshot 220\n",
      "Transhumanism 3355\n",
      "TransportinTurkmenistan 537\n",
      "Travellerroleplayinggame 1433\n",
      "TristanBernard 504\n",
      "TSEliot 3300\n",
      "Tubemap 1973\n",
      "TurkishArmedForces 2108\n",
      "TurksandCaicosIslands 2866\n",
      "Tuvalu 5851\n",
      "Tyburn 1648\n",
      "{'Anarchism': 6487, 'ArmedForcesofTurkmenistan': 1039, 'citations': 422, 'DemographicsofTurkmenistan': 1077, 'DemographicsofTuvalu': 513, 'EconomyofTurkmenistan': 1055, 'ForeignrelationsofTurkey': 4297, 'ForeignrelationsofTurkmenistan': 627, 'GeographyofTurkmenistan': 732, 'GeographyofTuvalu': 2365, 'HistoryofTurkmenistan': 1965, 'Justificationforthestate': 533, 'links': 12768, 'NightoftheLivingDead': 3341, 'PoliticsofTurkmenistan': 1218, 'Problemofotherminds': 67, 'Regressargument': 492, 'Statisticalhypothesistesting': 2900, 'TamaraEJernigan': 165, 'TARDIS': 4176, 'Tax': 3683, 'TaxFreedomDay': 838, 'TelecommunicationsintheTurksandCaicosIslands': 221, 'TelecommunicationsinTurkmenistan': 425, 'TelecommunicationsinTuvalu': 276, 'TerenceHill': 896, 'Tertiary': 245, 'TheHague': 3082, 'TheHobbit': 3501, 'TheHoundoftheBaskervilles': 1500, 'Theoryofjustification': 518, 'TheResistibleRiseofArturoUi': 896, 'TheThreepennyOpera': 2066, 'TienGow': 618, 'Timesignature': 1805, 'TimPowers': 840, 'TomandJerrydisambiguation': 135, 'TomClancy': 1485, 'TommyLee': 1468, 'Tonyukuk': 450, 'Trackingshot': 220, 'Transhumanism': 3355, 'TransportinTurkmenistan': 537, 'Travellerroleplayinggame': 1433, 'TristanBernard': 504, 'TSEliot': 3300, 'Tubemap': 1973, 'TurkishArmedForces': 2108, 'TurksandCaicosIslands': 2866, 'Tuvalu': 5851, 'Tyburn': 1648}\n"
     ]
    }
   ],
   "source": [
    "files = glob.glob(r'E:\\Project\\text and web\\articles1\\*.txt')\n",
    "data = {}\n",
    "for name in files:\n",
    "    filename = name.split('\\\\')[-1].split('.')[0]\n",
    "    with open(name,encoding=\"utf8\") as f:\n",
    "        value = func(f)\n",
    "        print(filename, value)\n",
    "        data[filename]= value\n",
    "print(data)  "
   ]
  },
  {
   "cell_type": "code",
   "execution_count": 22,
   "metadata": {},
   "outputs": [],
   "source": [
    "df = pd.read_csv('record.csv', encoding='iso-8859-1')"
   ]
  },
  {
   "cell_type": "code",
   "execution_count": 23,
   "metadata": {},
   "outputs": [],
   "source": [
    "lengths = [] \n",
    "for title in df['Title']:\n",
    "    title = [ i for i in title if i not in string.punctuation+' ']\n",
    "    title = ''.join(title)\n",
    "    lengths.append(data[title])\n",
    "\n",
    "df['Clean Tokens'] = lengths"
   ]
  },
  {
   "cell_type": "code",
   "execution_count": 24,
   "metadata": {},
   "outputs": [
    {
     "data": {
      "text/html": [
       "<div>\n",
       "<style>\n",
       "    .dataframe thead tr:only-child th {\n",
       "        text-align: right;\n",
       "    }\n",
       "\n",
       "    .dataframe thead th {\n",
       "        text-align: left;\n",
       "    }\n",
       "\n",
       "    .dataframe tbody tr th {\n",
       "        vertical-align: top;\n",
       "    }\n",
       "</style>\n",
       "<table border=\"1\" class=\"dataframe\">\n",
       "  <thead>\n",
       "    <tr style=\"text-align: right;\">\n",
       "      <th></th>\n",
       "      <th>Unnamed: 0</th>\n",
       "      <th>Title</th>\n",
       "      <th>Text</th>\n",
       "      <th>Category</th>\n",
       "      <th>Links</th>\n",
       "      <th>Cite Books</th>\n",
       "      <th>Clean Tokens</th>\n",
       "    </tr>\n",
       "  </thead>\n",
       "  <tbody>\n",
       "    <tr>\n",
       "      <th>0</th>\n",
       "      <td>1</td>\n",
       "      <td>Anarchism</td>\n",
       "      <td>Anarchism.txt</td>\n",
       "      <td>['Social theories', 'Political ideologies', 'P...</td>\n",
       "      <td>30177</td>\n",
       "      <td>2</td>\n",
       "      <td>6487</td>\n",
       "    </tr>\n",
       "    <tr>\n",
       "      <th>1</th>\n",
       "      <td>2</td>\n",
       "      <td>T A R D I S</td>\n",
       "      <td>TARDIS.txt</td>\n",
       "      <td>['Fictional items which are larger inside than...</td>\n",
       "      <td>19451</td>\n",
       "      <td>5</td>\n",
       "      <td>4176</td>\n",
       "    </tr>\n",
       "    <tr>\n",
       "      <th>2</th>\n",
       "      <td>3</td>\n",
       "      <td>Traveller (role-playing game)</td>\n",
       "      <td>Travellerroleplayinggame.txt</td>\n",
       "      <td>['Traveller', 'Space opera role-playing games'...</td>\n",
       "      <td>2367</td>\n",
       "      <td>18</td>\n",
       "      <td>1433</td>\n",
       "    </tr>\n",
       "    <tr>\n",
       "      <th>3</th>\n",
       "      <td>4</td>\n",
       "      <td>Tracking shot</td>\n",
       "      <td>Trackingshot.txt</td>\n",
       "      <td>['Cinematic techniques', 'Cinematography']</td>\n",
       "      <td>380</td>\n",
       "      <td>0</td>\n",
       "      <td>220</td>\n",
       "    </tr>\n",
       "    <tr>\n",
       "      <th>4</th>\n",
       "      <td>5</td>\n",
       "      <td>Theory of justification</td>\n",
       "      <td>Theoryofjustification.txt</td>\n",
       "      <td>['Epistemological theories|Justification', 'Ju...</td>\n",
       "      <td>1501</td>\n",
       "      <td>0</td>\n",
       "      <td>518</td>\n",
       "    </tr>\n",
       "  </tbody>\n",
       "</table>\n",
       "</div>"
      ],
      "text/plain": [
       "   Unnamed: 0                          Title                          Text  \\\n",
       "0           1                      Anarchism                 Anarchism.txt   \n",
       "1           2                    T A R D I S                    TARDIS.txt   \n",
       "2           3  Traveller (role-playing game)  Travellerroleplayinggame.txt   \n",
       "3           4                  Tracking shot              Trackingshot.txt   \n",
       "4           5        Theory of justification     Theoryofjustification.txt   \n",
       "\n",
       "                                            Category  Links  Cite Books  \\\n",
       "0  ['Social theories', 'Political ideologies', 'P...  30177           2   \n",
       "1  ['Fictional items which are larger inside than...  19451           5   \n",
       "2  ['Traveller', 'Space opera role-playing games'...   2367          18   \n",
       "3         ['Cinematic techniques', 'Cinematography']    380           0   \n",
       "4  ['Epistemological theories|Justification', 'Ju...   1501           0   \n",
       "\n",
       "   Clean Tokens  \n",
       "0          6487  \n",
       "1          4176  \n",
       "2          1433  \n",
       "3           220  \n",
       "4           518  "
      ]
     },
     "execution_count": 24,
     "metadata": {},
     "output_type": "execute_result"
    }
   ],
   "source": [
    "df.head()"
   ]
  },
  {
   "cell_type": "code",
   "execution_count": 25,
   "metadata": {},
   "outputs": [],
   "source": [
    "df.to_csv('#2 new_records.csv', index=False)"
   ]
  }
 ],
 "metadata": {
  "kernelspec": {
   "display_name": "Python 3",
   "language": "python",
   "name": "python3"
  },
  "language_info": {
   "codemirror_mode": {
    "name": "ipython",
    "version": 3
   },
   "file_extension": ".py",
   "mimetype": "text/x-python",
   "name": "python",
   "nbconvert_exporter": "python",
   "pygments_lexer": "ipython3",
   "version": "3.6.2"
  }
 },
 "nbformat": 4,
 "nbformat_minor": 2
}
